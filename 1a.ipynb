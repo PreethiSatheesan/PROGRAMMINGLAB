{
 "cells": [
  {
   "cell_type": "code",
   "execution_count": null,
   "id": "ffcb23c2-de62-4aac-a339-1fd0af66f69c",
   "metadata": {},
   "outputs": [],
   "source": [
    "from math import pi\n",
    "r=int(input(\"Enter Radius:\"))\n",
    "a=pi*r*r\n",
    "print(\"AREA=\",a)\n"
   ]
  }
 ],
 "metadata": {
  "kernelspec": {
   "display_name": "Python 3 (ipykernel)",
   "language": "python",
   "name": "python3"
  },
  "language_info": {
   "codemirror_mode": {
    "name": "ipython",
    "version": 3
   },
   "file_extension": ".py",
   "mimetype": "text/x-python",
   "name": "python",
   "nbconvert_exporter": "python",
   "pygments_lexer": "ipython3",
   "version": "3.12.0"
  }
 },
 "nbformat": 4,
 "nbformat_minor": 5
}
